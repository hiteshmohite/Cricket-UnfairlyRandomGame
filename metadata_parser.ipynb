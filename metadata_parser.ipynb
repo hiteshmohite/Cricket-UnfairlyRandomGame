{
 "cells": [
  {
   "cell_type": "code",
   "execution_count": 1,
   "metadata": {
    "collapsed": true
   },
   "outputs": [],
   "source": [
    "import numpy as np\n",
    "import pandas as pd\n",
    "import yaml\n",
    "import json"
   ]
  },
  {
   "cell_type": "code",
   "execution_count": 2,
   "metadata": {
    "collapsed": true
   },
   "outputs": [],
   "source": [
    "def core_function(filename, counter_for_files):\n",
    "    print(filename)\n",
    "    with open(infile, 'r') as f:\n",
    "        data = yaml.load(f)\n",
    "    \n",
    "    result = data['info']['outcome']\n",
    "    result = list(result.keys())\n",
    "    result_key = 'result'\n",
    "    if result_key in result:\n",
    "        print('This is a resultless game : {}'.format(filename))\n",
    "        return 'no result'\n"
   ]
  },
  {
   "cell_type": "code",
   "execution_count": null,
   "metadata": {
    "collapsed": true
   },
   "outputs": [],
   "source": [
    "counter_for_files = 0\n",
    "#for infile in list_of_games:\n",
    "while(counter_for_files < len(list_of_games)):\n",
    "    \n",
    "    infile = list_of_games[counter_for_files]\n",
    "    #core_function(infile, counter_for_files)    \n",
    "    print(filename)\n",
    "    with open(infile, 'r') as f:\n",
    "        data = yaml.load(f)\n",
    "    \n",
    "    result = data['info']['outcome']\n",
    "    result = list(result.keys())\n",
    "    result_key = 'result'\n",
    "    if result_key in result:\n",
    "        print('This is a resultless game : {}'.format(filename))\n",
    "    \n",
    "    counter_for_files += 1\n"
   ]
  }
 ],
 "metadata": {
  "kernelspec": {
   "display_name": "Python 3",
   "language": "python",
   "name": "python3"
  },
  "language_info": {
   "codemirror_mode": {
    "name": "ipython",
    "version": 3
   },
   "file_extension": ".py",
   "mimetype": "text/x-python",
   "name": "python",
   "nbconvert_exporter": "python",
   "pygments_lexer": "ipython3",
   "version": "3.6.1"
  }
 },
 "nbformat": 4,
 "nbformat_minor": 2
}
