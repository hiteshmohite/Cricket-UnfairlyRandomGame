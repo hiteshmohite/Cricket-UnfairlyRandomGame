{
 "cells": [
  {
   "cell_type": "code",
   "execution_count": 9,
   "metadata": {
    "collapsed": true
   },
   "outputs": [],
   "source": [
    "import numpy as np\n",
    "import pandas as pd"
   ]
  },
  {
   "cell_type": "code",
   "execution_count": 10,
   "metadata": {
    "collapsed": true
   },
   "outputs": [],
   "source": [
    "#import urllib2 as link\n",
    "from urllib.request import urlopen\n",
    "from bs4 import BeautifulSoup\n",
    "\n",
    "links = []\n",
    "bowler_name = []\n",
    "#country = []\n",
    "overs = []\n",
    "bpo = []\n",
    "maidens = []\n",
    "runs = []\n",
    "wickets = []\n",
    "economy = []\n",
    "inns = []\n",
    "opposition = []\n",
    "ground = []\n",
    "date = []\n",
    "\n",
    "template_1 = \"http://stats.espncricinfo.com/ci/engine/stats/index.html?class=2;page=\"\n",
    "template_2 = \";template=results;type=bowling;view=innings\"\n",
    "page_number = 1766\n",
    "\n",
    "for i in range(page_number):\n",
    "    link = template_1 + str(i+1) + template_2\n",
    "    links.append(link)"
   ]
  },
  {
   "cell_type": "code",
   "execution_count": 11,
   "metadata": {
    "collapsed": true
   },
   "outputs": [],
   "source": [
    "df_bowler_details = pd.DataFrame(columns=['bowler', 'overs', 'bpo', 'maidens', 'runs', 'wkts', 'econ', 'inns', 'opposition', 'ground', 'date'])"
   ]
  },
  {
   "cell_type": "code",
   "execution_count": 12,
   "metadata": {},
   "outputs": [
    {
     "name": "stderr",
     "output_type": "stream",
     "text": [
      "C:\\Users\\Hitesh Mohite\\Anaconda3\\lib\\site-packages\\bs4\\__init__.py:181: UserWarning: No parser was explicitly specified, so I'm using the best available HTML parser for this system (\"lxml\"). This usually isn't a problem, but if you run this code on another system, or in a different virtual environment, it may use a different parser and behave differently.\n",
      "\n",
      "The code that caused this warning is on line 193 of the file C:\\Users\\Hitesh Mohite\\Anaconda3\\lib\\runpy.py. To get rid of this warning, change code that looks like this:\n",
      "\n",
      " BeautifulSoup(YOUR_MARKUP})\n",
      "\n",
      "to this:\n",
      "\n",
      " BeautifulSoup(YOUR_MARKUP, \"lxml\")\n",
      "\n",
      "  markup_type=markup_type))\n"
     ]
    }
   ],
   "source": [
    "for link in links:\n",
    "\n",
    "    page = urlopen(link)\n",
    "    soup = BeautifulSoup(page)\n",
    "    all_tables=soup.find_all('table')\n",
    "    right_table=soup.find_all('table', class_='engineTable')\n",
    "    temp = right_table\n",
    "    page_core_data = temp[2]\n",
    "\n",
    "    tag_th = page_core_data.find_all('th')\n",
    "    \n",
    "    feature_list_bowling = []\n",
    "    for name in tag_th:\n",
    "        if(name.text):\n",
    "            feature_list_bowling.append(name.text)\n",
    "    #print(feature_list_bowling)\n",
    "    core_details = page_core_data.find_all('tbody')\n",
    "    core_details = core_details[0]\n",
    "    each_page = core_details.find_all('tr', class_='data1')\n",
    "    temp = each_page[0]\n",
    "    tag_td = temp.find_all('td')\n",
    "    for each_row in each_page:\n",
    "        temp = each_row\n",
    "        tag_td = temp.find_all('td')\n",
    "    \n",
    "        bowler_name.append(tag_td[0].text)\n",
    "        overs.append(tag_td[1].text)\n",
    "        bpo.append(tag_td[2].text)\n",
    "        maidens.append(tag_td[3].text)\n",
    "        runs.append(tag_td[4].text)\n",
    "        wickets.append(tag_td[5].text)\n",
    "        economy.append(tag_td[6].text)\n",
    "        inns.append(tag_td[7].text)\n",
    "        opposition.append(tag_td[9].text)\n",
    "        ground.append(tag_td[10].text)\n",
    "        date.append(tag_td[11].text)"
   ]
  },
  {
   "cell_type": "code",
   "execution_count": 13,
   "metadata": {},
   "outputs": [
    {
     "data": {
      "text/plain": [
       "'http://stats.espncricinfo.com/ci/engine/stats/index.html?class=2;page=1766;template=results;type=bowling;view=innings'"
      ]
     },
     "execution_count": 13,
     "metadata": {},
     "output_type": "execute_result"
    }
   ],
   "source": [
    "link"
   ]
  },
  {
   "cell_type": "code",
   "execution_count": 15,
   "metadata": {},
   "outputs": [],
   "source": [
    "df_bowler_details['bowler'] = bowler_name\n",
    "df_bowler_details['overs'] = overs\n",
    "df_bowler_details['bpo'] = bpo\n",
    "df_bowler_details['maidens'] = maidens\n",
    "df_bowler_details['runs'] = runs\n",
    "df_bowler_details['wkts'] = wickets\n",
    "df_bowler_details['econ'] = economy\n",
    "df_bowler_details['inns'] = inns\n",
    "df_bowler_details['opposition'] = opposition\n",
    "df_bowler_details['ground'] = ground\n",
    "df_bowler_details['date'] = date\n",
    "\n",
    "df_bowler_details.to_csv('bowler_details.csv', sep=',')"
   ]
  },
  {
   "cell_type": "code",
   "execution_count": null,
   "metadata": {
    "collapsed": true
   },
   "outputs": [],
   "source": []
  }
 ],
 "metadata": {
  "kernelspec": {
   "display_name": "Python 3",
   "language": "python",
   "name": "python3"
  },
  "language_info": {
   "codemirror_mode": {
    "name": "ipython",
    "version": 3
   },
   "file_extension": ".py",
   "mimetype": "text/x-python",
   "name": "python",
   "nbconvert_exporter": "python",
   "pygments_lexer": "ipython3",
   "version": "3.6.1"
  }
 },
 "nbformat": 4,
 "nbformat_minor": 2
}
